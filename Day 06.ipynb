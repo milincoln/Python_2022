{
 "cells": [
  {
   "cell_type": "markdown",
   "id": "4076753b",
   "metadata": {},
   "source": [
    "# *TUPLE IN PYTHON*"
   ]
  },
  {
   "cell_type": "code",
   "execution_count": 1,
   "id": "09f215cb",
   "metadata": {},
   "outputs": [],
   "source": [
    "tup1 = ()"
   ]
  },
  {
   "cell_type": "code",
   "execution_count": 2,
   "id": "022a9fb5",
   "metadata": {},
   "outputs": [
    {
     "data": {
      "text/plain": [
       "tuple"
      ]
     },
     "execution_count": 2,
     "metadata": {},
     "output_type": "execute_result"
    }
   ],
   "source": [
    "type(tup1)"
   ]
  },
  {
   "cell_type": "code",
   "execution_count": 4,
   "id": "4feba8e6",
   "metadata": {},
   "outputs": [],
   "source": [
    "tup1 = ('ds', 'ml',1,5,6,9,10,34,[2,3,7], True)"
   ]
  },
  {
   "cell_type": "code",
   "execution_count": 5,
   "id": "0e36def1",
   "metadata": {},
   "outputs": [
    {
     "data": {
      "text/plain": [
       "('ds', 'ml', 1, 5, 6, 9, 10, 34, [2, 3, 7], True)"
      ]
     },
     "execution_count": 5,
     "metadata": {},
     "output_type": "execute_result"
    }
   ],
   "source": [
    "tup1"
   ]
  },
  {
   "cell_type": "code",
   "execution_count": 6,
   "id": "e146645f",
   "metadata": {},
   "outputs": [
    {
     "data": {
      "text/plain": [
       "'ml'"
      ]
     },
     "execution_count": 6,
     "metadata": {},
     "output_type": "execute_result"
    }
   ],
   "source": [
    "tup1[1]"
   ]
  },
  {
   "cell_type": "code",
   "execution_count": 8,
   "id": "75854810",
   "metadata": {},
   "outputs": [
    {
     "data": {
      "text/plain": [
       "(1, 5, 6, 9, 10, 34)"
      ]
     },
     "execution_count": 8,
     "metadata": {},
     "output_type": "execute_result"
    }
   ],
   "source": [
    "tup1[2:8]"
   ]
  },
  {
   "cell_type": "code",
   "execution_count": 9,
   "id": "7b8abb39",
   "metadata": {},
   "outputs": [],
   "source": [
    "tup2 = ['python']"
   ]
  },
  {
   "cell_type": "code",
   "execution_count": 10,
   "id": "1d8448a2",
   "metadata": {},
   "outputs": [
    {
     "data": {
      "text/plain": [
       "['python']"
      ]
     },
     "execution_count": 10,
     "metadata": {},
     "output_type": "execute_result"
    }
   ],
   "source": [
    "tup2"
   ]
  },
  {
   "cell_type": "code",
   "execution_count": 11,
   "id": "86ed0b37",
   "metadata": {},
   "outputs": [
    {
     "data": {
      "text/plain": [
       "list"
      ]
     },
     "execution_count": 11,
     "metadata": {},
     "output_type": "execute_result"
    }
   ],
   "source": [
    "type(tup2)"
   ]
  },
  {
   "cell_type": "code",
   "execution_count": 12,
   "id": "b7db312d",
   "metadata": {},
   "outputs": [],
   "source": [
    "tup2 = ('python')"
   ]
  },
  {
   "cell_type": "code",
   "execution_count": 14,
   "id": "785109cb",
   "metadata": {},
   "outputs": [
    {
     "data": {
      "text/plain": [
       "'python'"
      ]
     },
     "execution_count": 14,
     "metadata": {},
     "output_type": "execute_result"
    }
   ],
   "source": [
    "tup2"
   ]
  },
  {
   "cell_type": "code",
   "execution_count": 15,
   "id": "e6e9ed5b",
   "metadata": {},
   "outputs": [
    {
     "data": {
      "text/plain": [
       "str"
      ]
     },
     "execution_count": 15,
     "metadata": {},
     "output_type": "execute_result"
    }
   ],
   "source": [
    "type(tup2)"
   ]
  },
  {
   "cell_type": "code",
   "execution_count": 16,
   "id": "a5f2d998",
   "metadata": {},
   "outputs": [
    {
     "data": {
      "text/plain": [
       "tuple"
      ]
     },
     "execution_count": 16,
     "metadata": {},
     "output_type": "execute_result"
    }
   ],
   "source": [
    "tup2 = ('python',)\n",
    "type(tup2)"
   ]
  },
  {
   "cell_type": "code",
   "execution_count": 20,
   "id": "a170a8c4",
   "metadata": {},
   "outputs": [
    {
     "data": {
      "text/plain": [
       "'python'"
      ]
     },
     "execution_count": 20,
     "metadata": {},
     "output_type": "execute_result"
    }
   ],
   "source": [
    "tup2[0]"
   ]
  },
  {
   "cell_type": "code",
   "execution_count": 23,
   "id": "02ae0da2",
   "metadata": {},
   "outputs": [],
   "source": [
    "l = list(tup2)"
   ]
  },
  {
   "cell_type": "code",
   "execution_count": 24,
   "id": "2e6141b8",
   "metadata": {},
   "outputs": [
    {
     "data": {
      "text/plain": [
       "['python']"
      ]
     },
     "execution_count": 24,
     "metadata": {},
     "output_type": "execute_result"
    }
   ],
   "source": [
    "l"
   ]
  },
  {
   "cell_type": "code",
   "execution_count": 27,
   "id": "e04ce828",
   "metadata": {},
   "outputs": [],
   "source": [
    "l.append('ds')"
   ]
  },
  {
   "cell_type": "code",
   "execution_count": 28,
   "id": "7fd5fff0",
   "metadata": {},
   "outputs": [
    {
     "data": {
      "text/plain": [
       "['python', 'ds', 'ds']"
      ]
     },
     "execution_count": 28,
     "metadata": {},
     "output_type": "execute_result"
    }
   ],
   "source": [
    "l"
   ]
  },
  {
   "cell_type": "code",
   "execution_count": 30,
   "id": "8e3da168",
   "metadata": {},
   "outputs": [],
   "source": [
    "tup3 = (l,)"
   ]
  },
  {
   "cell_type": "code",
   "execution_count": 31,
   "id": "bda25874",
   "metadata": {},
   "outputs": [
    {
     "data": {
      "text/plain": [
       "(['python', 'ds', 'ds'],)"
      ]
     },
     "execution_count": 31,
     "metadata": {},
     "output_type": "execute_result"
    }
   ],
   "source": [
    "tup3"
   ]
  },
  {
   "cell_type": "code",
   "execution_count": 32,
   "id": "b55c7c4a",
   "metadata": {},
   "outputs": [
    {
     "data": {
      "text/plain": [
       "tuple"
      ]
     },
     "execution_count": 32,
     "metadata": {},
     "output_type": "execute_result"
    }
   ],
   "source": [
    "type(tup3)"
   ]
  },
  {
   "cell_type": "code",
   "execution_count": 37,
   "id": "ed17ba83",
   "metadata": {},
   "outputs": [],
   "source": [
    "tup4 = tup3 + tup1"
   ]
  },
  {
   "cell_type": "code",
   "execution_count": 38,
   "id": "62359e3a",
   "metadata": {},
   "outputs": [
    {
     "data": {
      "text/plain": [
       "(['python', 'ds', 'ds'], 'ds', 'ml', 1, 5, 6, 9, 10, 34, [2, 3, 7], True)"
      ]
     },
     "execution_count": 38,
     "metadata": {},
     "output_type": "execute_result"
    }
   ],
   "source": [
    "tup4"
   ]
  },
  {
   "cell_type": "code",
   "execution_count": 39,
   "id": "5e256dbe",
   "metadata": {},
   "outputs": [
    {
     "data": {
      "text/plain": [
       "(['python', 'ds', 'ds'],)"
      ]
     },
     "execution_count": 39,
     "metadata": {},
     "output_type": "execute_result"
    }
   ],
   "source": [
    "tup3"
   ]
  },
  {
   "cell_type": "code",
   "execution_count": 43,
   "id": "0063c800",
   "metadata": {},
   "outputs": [
    {
     "data": {
      "text/plain": [
       "1"
      ]
     },
     "execution_count": 43,
     "metadata": {},
     "output_type": "execute_result"
    }
   ],
   "source": [
    "tup4.count(9)"
   ]
  },
  {
   "cell_type": "code",
   "execution_count": 45,
   "id": "35c6d53d",
   "metadata": {},
   "outputs": [
    {
     "data": {
      "text/plain": [
       "4"
      ]
     },
     "execution_count": 45,
     "metadata": {},
     "output_type": "execute_result"
    }
   ],
   "source": [
    "tup4.index(5)"
   ]
  },
  {
   "cell_type": "code",
   "execution_count": null,
   "id": "f828d683",
   "metadata": {},
   "outputs": [],
   "source": []
  },
  {
   "cell_type": "markdown",
   "id": "4bd82a43",
   "metadata": {},
   "source": [
    "#Tuple Membership"
   ]
  },
  {
   "cell_type": "code",
   "execution_count": 47,
   "id": "98ddc0d9",
   "metadata": {},
   "outputs": [
    {
     "data": {
      "text/plain": [
       "True"
      ]
     },
     "execution_count": 47,
     "metadata": {},
     "output_type": "execute_result"
    }
   ],
   "source": [
    "True in tup4"
   ]
  },
  {
   "cell_type": "code",
   "execution_count": 48,
   "id": "6ca59da6",
   "metadata": {},
   "outputs": [
    {
     "data": {
      "text/plain": [
       "False"
      ]
     },
     "execution_count": 48,
     "metadata": {},
     "output_type": "execute_result"
    }
   ],
   "source": [
    "False in tup4"
   ]
  },
  {
   "cell_type": "code",
   "execution_count": null,
   "id": "d82d0dd3",
   "metadata": {},
   "outputs": [],
   "source": []
  },
  {
   "cell_type": "code",
   "execution_count": null,
   "id": "c27e06d9",
   "metadata": {},
   "outputs": [],
   "source": []
  }
 ],
 "metadata": {
  "kernelspec": {
   "display_name": "Python 3 (ipykernel)",
   "language": "python",
   "name": "python3"
  },
  "language_info": {
   "codemirror_mode": {
    "name": "ipython",
    "version": 3
   },
   "file_extension": ".py",
   "mimetype": "text/x-python",
   "name": "python",
   "nbconvert_exporter": "python",
   "pygments_lexer": "ipython3",
   "version": "3.9.13"
  }
 },
 "nbformat": 4,
 "nbformat_minor": 5
}
