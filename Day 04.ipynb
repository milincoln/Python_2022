{
 "cells": [
  {
   "cell_type": "markdown",
   "id": "b370932e",
   "metadata": {},
   "source": [
    "# *FOR LOOP*"
   ]
  },
  {
   "cell_type": "code",
   "execution_count": 1,
   "id": "3af8a104",
   "metadata": {},
   "outputs": [],
   "source": [
    "data = 'python'"
   ]
  },
  {
   "cell_type": "code",
   "execution_count": 2,
   "id": "4d09feea",
   "metadata": {},
   "outputs": [
    {
     "data": {
      "text/plain": [
       "'p'"
      ]
     },
     "execution_count": 2,
     "metadata": {},
     "output_type": "execute_result"
    }
   ],
   "source": [
    "data[0]"
   ]
  },
  {
   "cell_type": "code",
   "execution_count": 18,
   "id": "5843b624",
   "metadata": {},
   "outputs": [
    {
     "name": "stdout",
     "output_type": "stream",
     "text": [
      "lincoln p\n",
      "lincoln y\n",
      "lincoln t\n",
      "lincoln h\n",
      "lincoln o\n",
      "lincoln n\n"
     ]
    }
   ],
   "source": [
    "for x in data:\n",
    "    print('lincoln',x)"
   ]
  },
  {
   "cell_type": "code",
   "execution_count": 19,
   "id": "565d7f2d",
   "metadata": {},
   "outputs": [
    {
     "name": "stdout",
     "output_type": "stream",
     "text": [
      "p\n",
      "y\n",
      "t\n",
      "h\n",
      "o\n",
      "n\n"
     ]
    }
   ],
   "source": [
    "for x in range(6):\n",
    "    print(data[x])"
   ]
  },
  {
   "cell_type": "code",
   "execution_count": 24,
   "id": "fbe4de98",
   "metadata": {},
   "outputs": [
    {
     "name": "stdout",
     "output_type": "stream",
     "text": [
      "I\n",
      " \n",
      "L\n",
      "o\n",
      "v\n",
      "e\n",
      " \n",
      "P\n",
      "y\n",
      "t\n",
      "h\n",
      "o\n",
      "n\n"
     ]
    }
   ],
   "source": [
    "data = 'I Love Python'\n",
    "for i in range(len(data)):\n",
    "    print(data[i])"
   ]
  },
  {
   "cell_type": "code",
   "execution_count": 26,
   "id": "fc291a9e",
   "metadata": {},
   "outputs": [
    {
     "data": {
      "text/plain": [
       "['I', 'Love', 'Python']"
      ]
     },
     "execution_count": 26,
     "metadata": {},
     "output_type": "execute_result"
    }
   ],
   "source": [
    "data.split()"
   ]
  },
  {
   "cell_type": "code",
   "execution_count": 28,
   "id": "e00bc3d5",
   "metadata": {
    "scrolled": true
   },
   "outputs": [
    {
     "name": "stdout",
     "output_type": "stream",
     "text": [
      "I 0\n",
      "Love 1\n",
      "Python 2\n"
     ]
    }
   ],
   "source": [
    "data = 'I Love Python'\n",
    "data = data.split()\n",
    "for i in range(len(data)):\n",
    "    print(data[i],i)"
   ]
  },
  {
   "cell_type": "code",
   "execution_count": 39,
   "id": "915d6ec0",
   "metadata": {},
   "outputs": [
    {
     "name": "stdout",
     "output_type": "stream",
     "text": [
      "1 1\n",
      "34 35\n",
      "43 78\n",
      "45 123\n",
      "65 188\n",
      "87 275\n",
      "Total 275\n"
     ]
    }
   ],
   "source": [
    "n = [1,34,43,45,65,87]\n",
    "total = 0\n",
    "for x in n:\n",
    "    total = total+x\n",
    "    print(x,total)\n",
    "print('Total', total)"
   ]
  },
  {
   "cell_type": "code",
   "execution_count": 45,
   "id": "a81ae7e5",
   "metadata": {},
   "outputs": [
    {
     "name": "stdout",
     "output_type": "stream",
     "text": [
      "I Love Python 0\n",
      "I Love Python 1\n",
      "I Love Python 2\n",
      "I Love Python 3\n",
      "I Love Python 4\n",
      "I Love Python 5\n",
      "I Love Python 6\n",
      "I Love Python 7\n",
      "I Love Python 8\n",
      "I Love Python 9\n"
     ]
    }
   ],
   "source": [
    "for i in range(10):\n",
    "    print('I Love Python',i)"
   ]
  },
  {
   "cell_type": "code",
   "execution_count": 47,
   "id": "b6618216",
   "metadata": {},
   "outputs": [
    {
     "name": "stdout",
     "output_type": "stream",
     "text": [
      "I Love Python 10\n",
      "I Love Python 12\n",
      "I Love Python 14\n",
      "I Love Python 16\n",
      "I Love Python 18\n",
      "I Love Python 20\n",
      "I Love Python 22\n",
      "I Love Python 24\n",
      "I Love Python 26\n",
      "I Love Python 28\n",
      "I Love Python 30\n",
      "I Love Python 32\n",
      "I Love Python 34\n",
      "I Love Python 36\n",
      "I Love Python 38\n"
     ]
    }
   ],
   "source": [
    "for i in range(10,40,2):\n",
    "    print('I Love Python',i)"
   ]
  },
  {
   "cell_type": "code",
   "execution_count": 55,
   "id": "880f9062",
   "metadata": {},
   "outputs": [
    {
     "name": "stdout",
     "output_type": "stream",
     "text": [
      "I Love Python 1\n",
      "I Love Python 3\n",
      "I Love Python 5\n",
      "I Love Python 7\n",
      "I Love Python 9\n"
     ]
    }
   ],
   "source": [
    "for i in range(1,10,2):\n",
    "    print('I Love Python',i)"
   ]
  },
  {
   "cell_type": "code",
   "execution_count": null,
   "id": "fe627c6c",
   "metadata": {},
   "outputs": [],
   "source": []
  },
  {
   "cell_type": "markdown",
   "id": "4f806716",
   "metadata": {},
   "source": [
    "# *WHILE LOOP*"
   ]
  },
  {
   "cell_type": "code",
   "execution_count": 11,
   "id": "567aef4e",
   "metadata": {},
   "outputs": [
    {
     "name": "stdout",
     "output_type": "stream",
     "text": [
      "0\n",
      "1\n",
      "2\n",
      "3\n",
      "4\n",
      "5\n",
      "6\n",
      "7\n",
      "8\n",
      "9\n",
      "10\n"
     ]
    }
   ],
   "source": [
    "i = 0\n",
    "while (i<=10):\n",
    "    print(i)\n",
    "    i = i+1\n"
   ]
  },
  {
   "cell_type": "code",
   "execution_count": 10,
   "id": "70e38b5a",
   "metadata": {},
   "outputs": [
    {
     "name": "stdout",
     "output_type": "stream",
     "text": [
      "Python 1\n",
      "Python 2\n",
      "Python 3\n",
      "Python 4\n",
      "Python 5\n",
      "Python 6\n",
      "Python 7\n",
      "Python 8\n",
      "Python 9\n",
      "Python 10\n"
     ]
    }
   ],
   "source": [
    "i = 1\n",
    "while (i<=10):\n",
    "    print('Python',i)\n",
    "    i = i+1"
   ]
  },
  {
   "cell_type": "code",
   "execution_count": 21,
   "id": "220c8511",
   "metadata": {},
   "outputs": [
    {
     "name": "stdout",
     "output_type": "stream",
     "text": [
      "p\n",
      "y\n",
      "t\n",
      "h\n",
      "o\n",
      "n\n"
     ]
    }
   ],
   "source": [
    "data = 'python'\n",
    "\n",
    "i = 0\n",
    "while (i<len(data)):\n",
    "    print(data[i])\n",
    "    i = i+1"
   ]
  },
  {
   "cell_type": "code",
   "execution_count": 20,
   "id": "de0b2076",
   "metadata": {},
   "outputs": [
    {
     "name": "stdout",
     "output_type": "stream",
     "text": [
      "python\n"
     ]
    }
   ],
   "source": [
    "data = 'python'\n",
    "data = data.split()\n",
    "i = 0\n",
    "while i<len(data):\n",
    "    print(data[i])\n",
    "    i = i+1"
   ]
  },
  {
   "cell_type": "code",
   "execution_count": null,
   "id": "d45a18ae",
   "metadata": {},
   "outputs": [],
   "source": []
  },
  {
   "cell_type": "markdown",
   "id": "d8d457e0",
   "metadata": {},
   "source": [
    "# *NESTED LOOP*"
   ]
  },
  {
   "cell_type": "code",
   "execution_count": 41,
   "id": "bf235183",
   "metadata": {},
   "outputs": [
    {
     "name": "stdout",
     "output_type": "stream",
     "text": [
      "& \n",
      "& & \n",
      "& & & \n",
      "& & & & \n"
     ]
    }
   ],
   "source": [
    "rows = 4\n",
    "for x in range(rows):\n",
    "    for y in range (x+1):\n",
    "        print('&',end=' ')\n",
    "    print()"
   ]
  },
  {
   "cell_type": "code",
   "execution_count": 56,
   "id": "d013b58c",
   "metadata": {},
   "outputs": [
    {
     "name": "stdout",
     "output_type": "stream",
     "text": [
      "1 2 3 4 \n",
      "1 2 3 4 \n",
      "1 2 3 4 \n",
      "1 2 3 4 \n"
     ]
    }
   ],
   "source": [
    "num =[1,2,3,4]\n",
    "#outer loop\n",
    "\n",
    "for x in num:\n",
    "    #inner loop\n",
    "    i = 0\n",
    "    while i<len(num):\n",
    "        print(num[i], end=' ')\n",
    "        i=i+1\n",
    "    print()"
   ]
  },
  {
   "cell_type": "code",
   "execution_count": null,
   "id": "7789b00e",
   "metadata": {},
   "outputs": [],
   "source": []
  },
  {
   "cell_type": "code",
   "execution_count": null,
   "id": "73590d13",
   "metadata": {},
   "outputs": [],
   "source": []
  }
 ],
 "metadata": {
  "kernelspec": {
   "display_name": "Python 3 (ipykernel)",
   "language": "python",
   "name": "python3"
  },
  "language_info": {
   "codemirror_mode": {
    "name": "ipython",
    "version": 3
   },
   "file_extension": ".py",
   "mimetype": "text/x-python",
   "name": "python",
   "nbconvert_exporter": "python",
   "pygments_lexer": "ipython3",
   "version": "3.9.13"
  }
 },
 "nbformat": 4,
 "nbformat_minor": 5
}
