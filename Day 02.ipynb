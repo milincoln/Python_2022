{
 "cells": [
  {
   "cell_type": "code",
   "execution_count": 5,
   "id": "339e7f0d",
   "metadata": {
    "scrolled": true
   },
   "outputs": [
    {
     "data": {
      "text/plain": [
       "'data science'"
      ]
     },
     "execution_count": 5,
     "metadata": {},
     "output_type": "execute_result"
    }
   ],
   "source": [
    "'data science'"
   ]
  },
  {
   "cell_type": "code",
   "execution_count": 19,
   "id": "c702f51a",
   "metadata": {},
   "outputs": [
    {
     "name": "stdout",
     "output_type": "stream",
     "text": [
      "Hello World and Welcome to BCIC Sweden. ok!"
     ]
    }
   ],
   "source": [
    "print('Hello World','Welcome to BCIC Sweden', sep=' and ', end='. ok!')"
   ]
  },
  {
   "cell_type": "code",
   "execution_count": 22,
   "id": "f64130bc",
   "metadata": {},
   "outputs": [
    {
     "name": "stdout",
     "output_type": "stream",
     "text": [
      "Hello World\n"
     ]
    }
   ],
   "source": [
    "var = 'Hello World'\n",
    "print(var)"
   ]
  },
  {
   "cell_type": "code",
   "execution_count": 24,
   "id": "32690739",
   "metadata": {},
   "outputs": [
    {
     "name": "stdout",
     "output_type": "stream",
     "text": [
      "My Sentence is Hello World\n"
     ]
    }
   ],
   "source": [
    "var = 'Hello World'\n",
    "print('My Sentence is', var)"
   ]
  },
  {
   "cell_type": "code",
   "execution_count": 25,
   "id": "ba0691a3",
   "metadata": {},
   "outputs": [],
   "source": [
    "x = 100\n"
   ]
  },
  {
   "cell_type": "code",
   "execution_count": 26,
   "id": "039ddcfa",
   "metadata": {},
   "outputs": [],
   "source": [
    "y = 100"
   ]
  },
  {
   "cell_type": "code",
   "execution_count": 27,
   "id": "ddb9a713",
   "metadata": {},
   "outputs": [
    {
     "data": {
      "text/plain": [
       "2324340037072"
      ]
     },
     "execution_count": 27,
     "metadata": {},
     "output_type": "execute_result"
    }
   ],
   "source": [
    "id(y)"
   ]
  },
  {
   "cell_type": "code",
   "execution_count": 28,
   "id": "d96b816c",
   "metadata": {},
   "outputs": [
    {
     "data": {
      "text/plain": [
       "2324340037072"
      ]
     },
     "execution_count": 28,
     "metadata": {},
     "output_type": "execute_result"
    }
   ],
   "source": [
    "id(x)"
   ]
  },
  {
   "cell_type": "code",
   "execution_count": 29,
   "id": "8daa2446",
   "metadata": {},
   "outputs": [
    {
     "data": {
      "text/plain": [
       "1000"
      ]
     },
     "execution_count": 29,
     "metadata": {},
     "output_type": "execute_result"
    }
   ],
   "source": [
    "x,y,z = 10, 100, 1000\n"
   ]
  },
  {
   "cell_type": "code",
   "execution_count": 30,
   "id": "a852dd4a",
   "metadata": {},
   "outputs": [
    {
     "data": {
      "text/plain": [
       "100"
      ]
     },
     "execution_count": 30,
     "metadata": {},
     "output_type": "execute_result"
    }
   ],
   "source": [
    "y"
   ]
  },
  {
   "cell_type": "code",
   "execution_count": 33,
   "id": "c85df9d4",
   "metadata": {},
   "outputs": [
    {
     "data": {
      "text/plain": [
       "10"
      ]
     },
     "execution_count": 33,
     "metadata": {},
     "output_type": "execute_result"
    }
   ],
   "source": [
    "x"
   ]
  },
  {
   "cell_type": "code",
   "execution_count": 34,
   "id": "1b8956be",
   "metadata": {},
   "outputs": [
    {
     "data": {
      "text/plain": [
       "1000"
      ]
     },
     "execution_count": 34,
     "metadata": {},
     "output_type": "execute_result"
    }
   ],
   "source": [
    "z"
   ]
  },
  {
   "cell_type": "code",
   "execution_count": 51,
   "id": "fd2c7a2a",
   "metadata": {},
   "outputs": [
    {
     "name": "stdout",
     "output_type": "stream",
     "text": [
      "My number is 500\n",
      "not 1000\n"
     ]
    }
   ],
   "source": [
    "x = 1000 #global\n",
    "def func1():\n",
    "    x = 500 #Local\n",
    "    print('My number is', x)\n",
    "func1()  \n",
    "print('not', x)"
   ]
  },
  {
   "cell_type": "code",
   "execution_count": 52,
   "id": "1deb6a02",
   "metadata": {},
   "outputs": [
    {
     "name": "stdout",
     "output_type": "stream",
     "text": [
      "My number is 500\n",
      "not 500\n"
     ]
    }
   ],
   "source": [
    "def func1():\n",
    "    global x \n",
    "    x = 500\n",
    "    print('My number is', x)\n",
    "func1()  \n",
    "print('not', x)"
   ]
  },
  {
   "cell_type": "markdown",
   "id": "19ada23f",
   "metadata": {},
   "source": [
    "# Input Function"
   ]
  },
  {
   "cell_type": "code",
   "execution_count": 53,
   "id": "25f1e23b",
   "metadata": {},
   "outputs": [],
   "source": [
    "data = 'data science'"
   ]
  },
  {
   "cell_type": "code",
   "execution_count": 54,
   "id": "9b576b88",
   "metadata": {},
   "outputs": [
    {
     "data": {
      "text/plain": [
       "str"
      ]
     },
     "execution_count": 54,
     "metadata": {},
     "output_type": "execute_result"
    }
   ],
   "source": [
    "type(data)"
   ]
  },
  {
   "cell_type": "code",
   "execution_count": 55,
   "id": "2ba8cca0",
   "metadata": {},
   "outputs": [
    {
     "name": "stdout",
     "output_type": "stream",
     "text": [
      "data science fun!\n"
     ]
    }
   ],
   "source": [
    "data = input()"
   ]
  },
  {
   "cell_type": "code",
   "execution_count": 56,
   "id": "a0d6bc17",
   "metadata": {},
   "outputs": [
    {
     "data": {
      "text/plain": [
       "'data science fun!'"
      ]
     },
     "execution_count": 56,
     "metadata": {},
     "output_type": "execute_result"
    }
   ],
   "source": [
    "data"
   ]
  },
  {
   "cell_type": "code",
   "execution_count": 57,
   "id": "8f63660c",
   "metadata": {},
   "outputs": [
    {
     "name": "stdout",
     "output_type": "stream",
     "text": [
      "10\n",
      "20\n"
     ]
    }
   ],
   "source": [
    "x = input()\n",
    "y = input()"
   ]
  },
  {
   "cell_type": "code",
   "execution_count": 58,
   "id": "73176ea9",
   "metadata": {},
   "outputs": [
    {
     "data": {
      "text/plain": [
       "'1020'"
      ]
     },
     "execution_count": 58,
     "metadata": {},
     "output_type": "execute_result"
    }
   ],
   "source": [
    "x+y"
   ]
  },
  {
   "cell_type": "code",
   "execution_count": 59,
   "id": "1bc2584a",
   "metadata": {},
   "outputs": [
    {
     "data": {
      "text/plain": [
       "str"
      ]
     },
     "execution_count": 59,
     "metadata": {},
     "output_type": "execute_result"
    }
   ],
   "source": [
    "type(x)"
   ]
  },
  {
   "cell_type": "code",
   "execution_count": 62,
   "id": "767213f7",
   "metadata": {},
   "outputs": [],
   "source": [
    "x = int(x)\n",
    "y = int(y)"
   ]
  },
  {
   "cell_type": "code",
   "execution_count": 63,
   "id": "84a025a6",
   "metadata": {},
   "outputs": [
    {
     "data": {
      "text/plain": [
       "30"
      ]
     },
     "execution_count": 63,
     "metadata": {},
     "output_type": "execute_result"
    }
   ],
   "source": [
    "x+y"
   ]
  },
  {
   "cell_type": "code",
   "execution_count": 64,
   "id": "677054cc",
   "metadata": {},
   "outputs": [
    {
     "data": {
      "text/plain": [
       "int"
      ]
     },
     "execution_count": 64,
     "metadata": {},
     "output_type": "execute_result"
    }
   ],
   "source": [
    "type(x)"
   ]
  },
  {
   "cell_type": "code",
   "execution_count": 66,
   "id": "18ef7500",
   "metadata": {},
   "outputs": [
    {
     "name": "stdout",
     "output_type": "stream",
     "text": [
      "Enter your forst number: 200\n"
     ]
    }
   ],
   "source": [
    "x = int(input('Enter your forst number: '))"
   ]
  },
  {
   "cell_type": "code",
   "execution_count": 67,
   "id": "0d9bf7ab",
   "metadata": {},
   "outputs": [
    {
     "name": "stdout",
     "output_type": "stream",
     "text": [
      "Enter your 2nd number: 10.5\n"
     ]
    },
    {
     "ename": "ValueError",
     "evalue": "invalid literal for int() with base 10: '10.5'",
     "output_type": "error",
     "traceback": [
      "\u001b[1;31m---------------------------------------------------------------------------\u001b[0m",
      "\u001b[1;31mValueError\u001b[0m                                Traceback (most recent call last)",
      "\u001b[1;32m~\\AppData\\Local\\Temp\\ipykernel_4588\\334619355.py\u001b[0m in \u001b[0;36m<module>\u001b[1;34m\u001b[0m\n\u001b[1;32m----> 1\u001b[1;33m \u001b[0my\u001b[0m \u001b[1;33m=\u001b[0m \u001b[0mint\u001b[0m\u001b[1;33m(\u001b[0m\u001b[0minput\u001b[0m\u001b[1;33m(\u001b[0m\u001b[1;34m'Enter your 2nd number: '\u001b[0m\u001b[1;33m)\u001b[0m\u001b[1;33m)\u001b[0m\u001b[1;33m\u001b[0m\u001b[1;33m\u001b[0m\u001b[0m\n\u001b[0m",
      "\u001b[1;31mValueError\u001b[0m: invalid literal for int() with base 10: '10.5'"
     ]
    }
   ],
   "source": [
    "y = int(input('Enter your 2nd number: '))"
   ]
  },
  {
   "cell_type": "code",
   "execution_count": 68,
   "id": "363ba281",
   "metadata": {},
   "outputs": [
    {
     "name": "stdout",
     "output_type": "stream",
     "text": [
      "Enter your 2nd number: 10.5\n"
     ]
    }
   ],
   "source": [
    "y = float(input('Enter your 2nd number: '))"
   ]
  },
  {
   "cell_type": "code",
   "execution_count": 69,
   "id": "cd61272b",
   "metadata": {},
   "outputs": [
    {
     "data": {
      "text/plain": [
       "210.5"
      ]
     },
     "execution_count": 69,
     "metadata": {},
     "output_type": "execute_result"
    }
   ],
   "source": [
    "x+y"
   ]
  },
  {
   "cell_type": "code",
   "execution_count": 70,
   "id": "712cb826",
   "metadata": {},
   "outputs": [],
   "source": [
    "data = 'Welcome to BCIC Sweden'"
   ]
  },
  {
   "cell_type": "code",
   "execution_count": 71,
   "id": "305a4f03",
   "metadata": {},
   "outputs": [
    {
     "data": {
      "text/plain": [
       "str"
      ]
     },
     "execution_count": 71,
     "metadata": {},
     "output_type": "execute_result"
    }
   ],
   "source": [
    "type(data)"
   ]
  },
  {
   "cell_type": "code",
   "execution_count": 72,
   "id": "bcb36483",
   "metadata": {},
   "outputs": [
    {
     "data": {
      "text/plain": [
       "22"
      ]
     },
     "execution_count": 72,
     "metadata": {},
     "output_type": "execute_result"
    }
   ],
   "source": [
    "len(data) #Length of the sentence"
   ]
  },
  {
   "cell_type": "code",
   "execution_count": 73,
   "id": "c2bd31eb",
   "metadata": {},
   "outputs": [
    {
     "data": {
      "text/plain": [
       "71"
      ]
     },
     "execution_count": 73,
     "metadata": {},
     "output_type": "execute_result"
    }
   ],
   "source": [
    "import sys\n",
    "sys.getsizeof(data) #Get the size of the sentence"
   ]
  },
  {
   "cell_type": "code",
   "execution_count": 74,
   "id": "5fa885a2",
   "metadata": {},
   "outputs": [
    {
     "data": {
      "text/plain": [
       "0"
      ]
     },
     "execution_count": 74,
     "metadata": {},
     "output_type": "execute_result"
    }
   ],
   "source": [
    "data.count('python')"
   ]
  },
  {
   "cell_type": "code",
   "execution_count": 75,
   "id": "b6cdf0a1",
   "metadata": {},
   "outputs": [
    {
     "data": {
      "text/plain": [
       "1"
      ]
     },
     "execution_count": 75,
     "metadata": {},
     "output_type": "execute_result"
    }
   ],
   "source": [
    "data.count('BCIC')"
   ]
  },
  {
   "cell_type": "markdown",
   "id": "f110030a",
   "metadata": {},
   "source": [
    "# Python String Method"
   ]
  },
  {
   "cell_type": "code",
   "execution_count": 76,
   "id": "01c0ef5e",
   "metadata": {},
   "outputs": [
    {
     "data": {
      "text/plain": [
       "-1"
      ]
     },
     "execution_count": 76,
     "metadata": {},
     "output_type": "execute_result"
    }
   ],
   "source": [
    "data = 'Welcome to BCIC Sweden'\n",
    "data.find('of')"
   ]
  },
  {
   "cell_type": "code",
   "execution_count": 77,
   "id": "167ecfda",
   "metadata": {},
   "outputs": [
    {
     "data": {
      "text/plain": [
       "8"
      ]
     },
     "execution_count": 77,
     "metadata": {},
     "output_type": "execute_result"
    }
   ],
   "source": [
    "data = 'Welcome to BCIC Sweden'\n",
    "data.find('to')"
   ]
  },
  {
   "cell_type": "code",
   "execution_count": 82,
   "id": "ccaf2203",
   "metadata": {},
   "outputs": [
    {
     "data": {
      "text/plain": [
       "1"
      ]
     },
     "execution_count": 82,
     "metadata": {},
     "output_type": "execute_result"
    }
   ],
   "source": [
    "data = 'Welcome to BCIC Sweden'\n",
    "data.find('e') #Find word from first"
   ]
  },
  {
   "cell_type": "code",
   "execution_count": 83,
   "id": "58eecc3b",
   "metadata": {},
   "outputs": [
    {
     "data": {
      "text/plain": [
       "6"
      ]
     },
     "execution_count": 83,
     "metadata": {},
     "output_type": "execute_result"
    }
   ],
   "source": [
    "data = 'Welcome to BCIC Sweden'\n",
    "data.find('e',6,20) #Find word from Range 6 to 20"
   ]
  },
  {
   "cell_type": "code",
   "execution_count": 84,
   "id": "b72b27ef",
   "metadata": {},
   "outputs": [
    {
     "data": {
      "text/plain": [
       "'welcome to bcic sweden'"
      ]
     },
     "execution_count": 84,
     "metadata": {},
     "output_type": "execute_result"
    }
   ],
   "source": [
    "data.lower() #Convert all the char in lower case"
   ]
  },
  {
   "cell_type": "code",
   "execution_count": 85,
   "id": "d650d135",
   "metadata": {},
   "outputs": [
    {
     "data": {
      "text/plain": [
       "'WELCOME TO BCIC SWEDEN'"
      ]
     },
     "execution_count": 85,
     "metadata": {},
     "output_type": "execute_result"
    }
   ],
   "source": [
    "data.upper() #Convert all the char in upper case"
   ]
  },
  {
   "cell_type": "code",
   "execution_count": 86,
   "id": "c38d2c50",
   "metadata": {},
   "outputs": [
    {
     "data": {
      "text/plain": [
       "'Welcome to bcic sweden'"
      ]
     },
     "execution_count": 86,
     "metadata": {},
     "output_type": "execute_result"
    }
   ],
   "source": [
    "data.capitalize() #Convert first letter on upper case"
   ]
  },
  {
   "cell_type": "code",
   "execution_count": 87,
   "id": "843109a2",
   "metadata": {},
   "outputs": [
    {
     "data": {
      "text/plain": [
       "'Welcome To Bcic Sweden'"
      ]
     },
     "execution_count": 87,
     "metadata": {},
     "output_type": "execute_result"
    }
   ],
   "source": [
    "data.title() #Convert every first letter on upper case"
   ]
  },
  {
   "cell_type": "code",
   "execution_count": 88,
   "id": "5e82f4a0",
   "metadata": {},
   "outputs": [
    {
     "data": {
      "text/plain": [
       "'              Welcome to BCIC Sweden              '"
      ]
     },
     "execution_count": 88,
     "metadata": {},
     "output_type": "execute_result"
    }
   ],
   "source": [
    "data.center(50) #Make the sentence on center"
   ]
  },
  {
   "cell_type": "code",
   "execution_count": 89,
   "id": "a7e3f837",
   "metadata": {},
   "outputs": [
    {
     "data": {
      "text/plain": [
       "'Welcome to BCIC Portugal'"
      ]
     },
     "execution_count": 89,
     "metadata": {},
     "output_type": "execute_result"
    }
   ],
   "source": [
    "data.replace('Sweden', 'Portugal') #Replace the word from the sentence"
   ]
  },
  {
   "cell_type": "code",
   "execution_count": 91,
   "id": "4dc2271f",
   "metadata": {},
   "outputs": [
    {
     "name": "stdout",
     "output_type": "stream",
     "text": [
      "I have 2000 taka\n"
     ]
    }
   ],
   "source": [
    "x = 100\n",
    "y = 20\n",
    "z = x*y\n",
    "print('I have', z, 'taka')"
   ]
  },
  {
   "cell_type": "code",
   "execution_count": 94,
   "id": "6eb9be6c",
   "metadata": {},
   "outputs": [
    {
     "name": "stdout",
     "output_type": "stream",
     "text": [
      "I have 2000 taka\n"
     ]
    }
   ],
   "source": [
    "print('I have {} taka'. format(z)) #Format function"
   ]
  },
  {
   "cell_type": "markdown",
   "id": "ebebc086",
   "metadata": {},
   "source": [
    "# Condition\n"
   ]
  },
  {
   "cell_type": "code",
   "execution_count": 98,
   "id": "0c5685ee",
   "metadata": {},
   "outputs": [
    {
     "name": "stdout",
     "output_type": "stream",
     "text": [
      "ok\n"
     ]
    }
   ],
   "source": [
    "x = 100 #Account Balance\n",
    "y = 10 #Purchase\n",
    "if x>=y:\n",
    "    print('ok')"
   ]
  },
  {
   "cell_type": "code",
   "execution_count": 99,
   "id": "1462b164",
   "metadata": {},
   "outputs": [
    {
     "name": "stdout",
     "output_type": "stream",
     "text": [
      "Insufficiant Balance\n"
     ]
    }
   ],
   "source": [
    "x = 100 #Account Balance\n",
    "y = 10 #Purchase\n",
    "if x<=y:\n",
    "    print('ok')\n",
    "else:\n",
    "    print('Insufficiant Balance')"
   ]
  },
  {
   "cell_type": "code",
   "execution_count": 113,
   "id": "870598db",
   "metadata": {},
   "outputs": [
    {
     "name": "stdout",
     "output_type": "stream",
     "text": [
      "Insufficiant Balance. Require Balance: 900\n"
     ]
    }
   ],
   "source": [
    "x = 100 #Account Balance\n",
    "y = 1000 #Purchase\n",
    "if x>=y:\n",
    "    print('ok')\n",
    "else:\n",
    "    print('Insufficiant Balance.','Require Balance:',y-x)"
   ]
  },
  {
   "cell_type": "code",
   "execution_count": 116,
   "id": "2776e625",
   "metadata": {},
   "outputs": [
    {
     "name": "stdout",
     "output_type": "stream",
     "text": [
      "Purchasing...! Remaining Balance: 500\n"
     ]
    }
   ],
   "source": [
    "x = 100 #Account Balance\n",
    "y = 1000 #Purchase\n",
    "z = 1500 #Loan\n",
    "if x>=y:\n",
    "    print('ok')\n",
    "elif z>y:\n",
    "    value = z-y\n",
    "    print('Purchasing...!', 'Remaining Balance:', value)\n",
    "else:\n",
    "    print('Insufficiant Balance.','Remaining Balance:',y-x)"
   ]
  },
  {
   "cell_type": "code",
   "execution_count": null,
   "id": "9f6badbb",
   "metadata": {},
   "outputs": [],
   "source": []
  },
  {
   "cell_type": "code",
   "execution_count": null,
   "id": "2da5a822",
   "metadata": {},
   "outputs": [],
   "source": []
  },
  {
   "cell_type": "code",
   "execution_count": null,
   "id": "486d09e3",
   "metadata": {},
   "outputs": [],
   "source": []
  },
  {
   "cell_type": "code",
   "execution_count": null,
   "id": "01045455",
   "metadata": {},
   "outputs": [],
   "source": []
  },
  {
   "cell_type": "code",
   "execution_count": null,
   "id": "776c993b",
   "metadata": {},
   "outputs": [],
   "source": []
  }
 ],
 "metadata": {
  "kernelspec": {
   "display_name": "Python 3 (ipykernel)",
   "language": "python",
   "name": "python3"
  },
  "language_info": {
   "codemirror_mode": {
    "name": "ipython",
    "version": 3
   },
   "file_extension": ".py",
   "mimetype": "text/x-python",
   "name": "python",
   "nbconvert_exporter": "python",
   "pygments_lexer": "ipython3",
   "version": "3.9.13"
  }
 },
 "nbformat": 4,
 "nbformat_minor": 5
}
